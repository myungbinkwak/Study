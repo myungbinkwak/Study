{
 "cells": [
  {
   "cell_type": "markdown",
   "metadata": {},
   "source": [
    "#### 나이 구간 나누기\n",
    "basic1 데이터 중 'age'컬럼 이상치를 제거하고, 동일한 개수로 나이 순으로 3그룹으로 나눈 뒤 각 그룹의 중앙값을 더하시오\n",
    "\n",
    "(이상치는 음수(0포함), 소수점 값)\n",
    "- data: basic1.csv"
   ]
  },
  {
   "cell_type": "code",
   "execution_count": 2,
   "metadata": {},
   "outputs": [],
   "source": [
    "import os\n",
    "from os.path import join\n",
    "\n",
    "import pandas as pd"
   ]
  },
  {
   "cell_type": "code",
   "execution_count": 3,
   "metadata": {},
   "outputs": [
    {
     "data": {
      "text/html": [
       "<div>\n",
       "<style scoped>\n",
       "    .dataframe tbody tr th:only-of-type {\n",
       "        vertical-align: middle;\n",
       "    }\n",
       "\n",
       "    .dataframe tbody tr th {\n",
       "        vertical-align: top;\n",
       "    }\n",
       "\n",
       "    .dataframe thead th {\n",
       "        text-align: right;\n",
       "    }\n",
       "</style>\n",
       "<table border=\"1\" class=\"dataframe\">\n",
       "  <thead>\n",
       "    <tr style=\"text-align: right;\">\n",
       "      <th></th>\n",
       "      <th>id</th>\n",
       "      <th>age</th>\n",
       "      <th>city</th>\n",
       "      <th>f1</th>\n",
       "      <th>f2</th>\n",
       "      <th>f3</th>\n",
       "      <th>f4</th>\n",
       "      <th>f5</th>\n",
       "    </tr>\n",
       "  </thead>\n",
       "  <tbody>\n",
       "    <tr>\n",
       "      <th>0</th>\n",
       "      <td>id01</td>\n",
       "      <td>2.0</td>\n",
       "      <td>서울</td>\n",
       "      <td>NaN</td>\n",
       "      <td>0</td>\n",
       "      <td>NaN</td>\n",
       "      <td>ENFJ</td>\n",
       "      <td>91.297791</td>\n",
       "    </tr>\n",
       "    <tr>\n",
       "      <th>1</th>\n",
       "      <td>id02</td>\n",
       "      <td>9.0</td>\n",
       "      <td>서울</td>\n",
       "      <td>70.0</td>\n",
       "      <td>1</td>\n",
       "      <td>NaN</td>\n",
       "      <td>ENFJ</td>\n",
       "      <td>60.339826</td>\n",
       "    </tr>\n",
       "    <tr>\n",
       "      <th>2</th>\n",
       "      <td>id03</td>\n",
       "      <td>27.0</td>\n",
       "      <td>서울</td>\n",
       "      <td>61.0</td>\n",
       "      <td>1</td>\n",
       "      <td>NaN</td>\n",
       "      <td>ISTJ</td>\n",
       "      <td>17.252986</td>\n",
       "    </tr>\n",
       "  </tbody>\n",
       "</table>\n",
       "</div>"
      ],
      "text/plain": [
       "     id   age city    f1  f2   f3    f4         f5\n",
       "0  id01   2.0   서울   NaN   0  NaN  ENFJ  91.297791\n",
       "1  id02   9.0   서울  70.0   1  NaN  ENFJ  60.339826\n",
       "2  id03  27.0   서울  61.0   1  NaN  ISTJ  17.252986"
      ]
     },
     "execution_count": 3,
     "metadata": {},
     "output_type": "execute_result"
    }
   ],
   "source": [
    "file_NM = join('data', 'basic1.csv')\n",
    "df = pd.read_csv(file_NM)\n",
    "df.head(3)"
   ]
  },
  {
   "cell_type": "code",
   "execution_count": 15,
   "metadata": {},
   "outputs": [
    {
     "data": {
      "text/html": [
       "<div>\n",
       "<style scoped>\n",
       "    .dataframe tbody tr th:only-of-type {\n",
       "        vertical-align: middle;\n",
       "    }\n",
       "\n",
       "    .dataframe tbody tr th {\n",
       "        vertical-align: top;\n",
       "    }\n",
       "\n",
       "    .dataframe thead th {\n",
       "        text-align: right;\n",
       "    }\n",
       "</style>\n",
       "<table border=\"1\" class=\"dataframe\">\n",
       "  <thead>\n",
       "    <tr style=\"text-align: right;\">\n",
       "      <th></th>\n",
       "      <th>id</th>\n",
       "      <th>age</th>\n",
       "      <th>city</th>\n",
       "      <th>f1</th>\n",
       "      <th>f2</th>\n",
       "      <th>f3</th>\n",
       "      <th>f4</th>\n",
       "      <th>f5</th>\n",
       "    </tr>\n",
       "  </thead>\n",
       "  <tbody>\n",
       "    <tr>\n",
       "      <th>0</th>\n",
       "      <td>id01</td>\n",
       "      <td>2.0</td>\n",
       "      <td>서울</td>\n",
       "      <td>NaN</td>\n",
       "      <td>0</td>\n",
       "      <td>NaN</td>\n",
       "      <td>ENFJ</td>\n",
       "      <td>91.297791</td>\n",
       "    </tr>\n",
       "    <tr>\n",
       "      <th>1</th>\n",
       "      <td>id02</td>\n",
       "      <td>9.0</td>\n",
       "      <td>서울</td>\n",
       "      <td>70.0</td>\n",
       "      <td>1</td>\n",
       "      <td>NaN</td>\n",
       "      <td>ENFJ</td>\n",
       "      <td>60.339826</td>\n",
       "    </tr>\n",
       "    <tr>\n",
       "      <th>2</th>\n",
       "      <td>id03</td>\n",
       "      <td>27.0</td>\n",
       "      <td>서울</td>\n",
       "      <td>61.0</td>\n",
       "      <td>1</td>\n",
       "      <td>NaN</td>\n",
       "      <td>ISTJ</td>\n",
       "      <td>17.252986</td>\n",
       "    </tr>\n",
       "    <tr>\n",
       "      <th>3</th>\n",
       "      <td>id04</td>\n",
       "      <td>75.0</td>\n",
       "      <td>서울</td>\n",
       "      <td>NaN</td>\n",
       "      <td>2</td>\n",
       "      <td>NaN</td>\n",
       "      <td>INFP</td>\n",
       "      <td>52.667078</td>\n",
       "    </tr>\n",
       "    <tr>\n",
       "      <th>4</th>\n",
       "      <td>id05</td>\n",
       "      <td>24.0</td>\n",
       "      <td>서울</td>\n",
       "      <td>85.0</td>\n",
       "      <td>2</td>\n",
       "      <td>NaN</td>\n",
       "      <td>ISFJ</td>\n",
       "      <td>29.269869</td>\n",
       "    </tr>\n",
       "    <tr>\n",
       "      <th>...</th>\n",
       "      <td>...</td>\n",
       "      <td>...</td>\n",
       "      <td>...</td>\n",
       "      <td>...</td>\n",
       "      <td>...</td>\n",
       "      <td>...</td>\n",
       "      <td>...</td>\n",
       "      <td>...</td>\n",
       "    </tr>\n",
       "    <tr>\n",
       "      <th>95</th>\n",
       "      <td>id96</td>\n",
       "      <td>92.0</td>\n",
       "      <td>경기</td>\n",
       "      <td>53.0</td>\n",
       "      <td>1</td>\n",
       "      <td>NaN</td>\n",
       "      <td>ENTJ</td>\n",
       "      <td>52.667078</td>\n",
       "    </tr>\n",
       "    <tr>\n",
       "      <th>96</th>\n",
       "      <td>id97</td>\n",
       "      <td>100.0</td>\n",
       "      <td>경기</td>\n",
       "      <td>NaN</td>\n",
       "      <td>0</td>\n",
       "      <td>NaN</td>\n",
       "      <td>INFP</td>\n",
       "      <td>67.886373</td>\n",
       "    </tr>\n",
       "    <tr>\n",
       "      <th>97</th>\n",
       "      <td>id98</td>\n",
       "      <td>39.0</td>\n",
       "      <td>경기</td>\n",
       "      <td>58.0</td>\n",
       "      <td>2</td>\n",
       "      <td>NaN</td>\n",
       "      <td>INFP</td>\n",
       "      <td>98.429899</td>\n",
       "    </tr>\n",
       "    <tr>\n",
       "      <th>98</th>\n",
       "      <td>id99</td>\n",
       "      <td>1.0</td>\n",
       "      <td>경기</td>\n",
       "      <td>47.0</td>\n",
       "      <td>0</td>\n",
       "      <td>NaN</td>\n",
       "      <td>ESFJ</td>\n",
       "      <td>97.381034</td>\n",
       "    </tr>\n",
       "    <tr>\n",
       "      <th>99</th>\n",
       "      <td>id100</td>\n",
       "      <td>47.0</td>\n",
       "      <td>경기</td>\n",
       "      <td>53.0</td>\n",
       "      <td>0</td>\n",
       "      <td>vip</td>\n",
       "      <td>ESFP</td>\n",
       "      <td>33.308999</td>\n",
       "    </tr>\n",
       "  </tbody>\n",
       "</table>\n",
       "<p>90 rows × 8 columns</p>\n",
       "</div>"
      ],
      "text/plain": [
       "       id    age city    f1  f2   f3    f4         f5\n",
       "0    id01    2.0   서울   NaN   0  NaN  ENFJ  91.297791\n",
       "1    id02    9.0   서울  70.0   1  NaN  ENFJ  60.339826\n",
       "2    id03   27.0   서울  61.0   1  NaN  ISTJ  17.252986\n",
       "3    id04   75.0   서울   NaN   2  NaN  INFP  52.667078\n",
       "4    id05   24.0   서울  85.0   2  NaN  ISFJ  29.269869\n",
       "..    ...    ...  ...   ...  ..  ...   ...        ...\n",
       "95   id96   92.0   경기  53.0   1  NaN  ENTJ  52.667078\n",
       "96   id97  100.0   경기   NaN   0  NaN  INFP  67.886373\n",
       "97   id98   39.0   경기  58.0   2  NaN  INFP  98.429899\n",
       "98   id99    1.0   경기  47.0   0  NaN  ESFJ  97.381034\n",
       "99  id100   47.0   경기  53.0   0  vip  ESFP  33.308999\n",
       "\n",
       "[90 rows x 8 columns]"
      ]
     },
     "execution_count": 15,
     "metadata": {},
     "output_type": "execute_result"
    }
   ],
   "source": [
    "# age 컬럼의 이상치 제거(음수, 0, 소수점)\n",
    "df = df[df['age'] > 0] #음수와 0 제거\n",
    "df = df[df['age'] == round(df['age'], 0)] # 소수점"
   ]
  },
  {
   "cell_type": "code",
   "execution_count": 21,
   "metadata": {},
   "outputs": [
    {
     "data": {
      "text/plain": [
       "g1    30\n",
       "g2    30\n",
       "g3    30\n",
       "Name: label, dtype: int64"
      ]
     },
     "execution_count": 21,
     "metadata": {},
     "output_type": "execute_result"
    }
   ],
   "source": [
    "# 동일한 개수 3그룹\n",
    "pd.qcut(df['age'], q = 3)\n",
    "\n",
    "df['label'] = pd.qcut(df['age'], q = 3, labels=['g1', 'g2', 'g3'])\n",
    "df\n",
    "df['label'].value_counts()"
   ]
  },
  {
   "cell_type": "code",
   "execution_count": 24,
   "metadata": {},
   "outputs": [],
   "source": [
    "# 각 그룹의 중앙값의 합\n",
    "df_g1 = df[df['label'] == 'g1']['age'].median()\n",
    "df_g2 = df[df['label'] == 'g2']['age'].median()\n",
    "df_g3 = df[df['label'] == 'g3']['age'].median()"
   ]
  },
  {
   "cell_type": "code",
   "execution_count": 27,
   "metadata": {},
   "outputs": [
    {
     "name": "stdout",
     "output_type": "stream",
     "text": [
      "165.0\n"
     ]
    }
   ],
   "source": [
    "print(df_g1+df_g2+df_g3)"
   ]
  },
  {
   "cell_type": "code",
   "execution_count": null,
   "metadata": {},
   "outputs": [],
   "source": []
  }
 ],
 "metadata": {
  "kernelspec": {
   "display_name": "Python 3.8.12 ('base')",
   "language": "python",
   "name": "python3"
  },
  "language_info": {
   "codemirror_mode": {
    "name": "ipython",
    "version": 3
   },
   "file_extension": ".py",
   "mimetype": "text/x-python",
   "name": "python",
   "nbconvert_exporter": "python",
   "pygments_lexer": "ipython3",
   "version": "3.8.12"
  },
  "orig_nbformat": 4,
  "vscode": {
   "interpreter": {
    "hash": "dc9e9ccc36c3c53c869f9efb4dbe658a531f8632eda95f2a2a2973ff10f33bd1"
   }
  }
 },
 "nbformat": 4,
 "nbformat_minor": 2
}
