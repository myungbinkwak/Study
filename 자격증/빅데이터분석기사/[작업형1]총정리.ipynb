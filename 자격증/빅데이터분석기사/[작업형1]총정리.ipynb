{
 "cells": [
  {
   "cell_type": "markdown",
   "metadata": {},
   "source": [
    "#### 나이 구간 나누기\n",
    "basic1 데이터 중 'age'컬럼 이상치를 제거하고, 동일한 개수로 나이 순으로 3그룹으로 나눈 뒤 각 그룹의 중앙값을 더하시오\n",
    "\n",
    "(이상치는 음수(0포함), 소수점 값)\n",
    "- data: basic1.csv"
   ]
  },
  {
   "cell_type": "code",
   "execution_count": 1,
   "metadata": {},
   "outputs": [
    {
     "data": {
      "text/plain": [
       "165.0"
      ]
     },
     "execution_count": 1,
     "metadata": {},
     "output_type": "execute_result"
    }
   ],
   "source": [
    "import os\n",
    "from os.path import join\n",
    "\n",
    "import pandas as pd\n",
    "\n",
    "file_NM = join('data', 'basic1.csv')\n",
    "df = pd.read_csv(file_NM)\n",
    "df.head(3)\n",
    "df = df[df['age']>0]\n",
    "df = df[df['age'] == round(df['age'], 0)]\n",
    "pd.qcut(df['age'], q = 3)\n",
    "df['label'] = pd.qcut(df['age'], q = 3, labels= ['g1', 'g2', 'g3'])\n",
    "df.groupby('label')['age'].median().sum()"
   ]
  },
  {
   "cell_type": "markdown",
   "metadata": {},
   "source": [
    "#### 고객과 잘 맞는 타입 추천 :)\n",
    "basic1 데이터 중 'f4'를 기준으로 basic3 데이터 'f4'값을 기준으로 병합하고,\n",
    "\n",
    "병합한 데이터에서 r2결측치를 제거한다음, 앞에서 부터 20개 데이터를 선택하고 'f2'컬럼 합을 구하시오\n",
    "\n",
    "- basic1.csv: 고객 데이터\n",
    "- basic3.csv: 잘 어울리는 관계 데이터 (추천1:r1, 추천2:r2)"
   ]
  },
  {
   "cell_type": "code",
   "execution_count": 2,
   "metadata": {},
   "outputs": [
    {
     "data": {
      "text/plain": [
       "15"
      ]
     },
     "execution_count": 2,
     "metadata": {},
     "output_type": "execute_result"
    }
   ],
   "source": [
    "import os\n",
    "from os.path import join\n",
    "\n",
    "import pandas as pd\n",
    "\n",
    "file_NM = join('data', 'basic1.csv')\n",
    "file_NM2 = join('data', 'basic3.csv')\n",
    "df = pd.read_csv(file_NM)\n",
    "df1 = pd.read_csv(file_NM2)\n",
    "\n",
    "merge_df = pd.merge(df, df1, on = 'f4', how='left')\n",
    "merge_df = merge_df.dropna(subset = ['r2'])\n",
    "df20 = merge_df[:20]\n",
    "df20['f2'].sum()"
   ]
  },
  {
   "cell_type": "markdown",
   "metadata": {},
   "source": [
    "#### 상관관계 구하기\n",
    "주어진 데이터에서 상관관계를 구하고, quality와의 상관관계가 가장 큰 값과, 가장 작은 값을 구한 다음 더하시오!\n",
    "단, quality와 quality 상관관계 제외, 소수점 둘째 자리까지 출력\n",
    "\n",
    "- 데이터셋 : ../input/red-wine-quality-cortez-et-al-2009/winequality-red.csv"
   ]
  },
  {
   "cell_type": "code",
   "execution_count": 3,
   "metadata": {},
   "outputs": [
    {
     "data": {
      "text/plain": [
       "0.49"
      ]
     },
     "execution_count": 3,
     "metadata": {},
     "output_type": "execute_result"
    }
   ],
   "source": [
    "import os \n",
    "from os.path import join\n",
    "\n",
    "import pandas as pd\n",
    "import numpy as np\n",
    "\n",
    "file_Nm = join('data', 'winequality-red.csv')\n",
    "df = pd.read_csv(file_Nm)\n",
    "df.head()\n",
    "\n",
    "dfcor = df.corr()\n",
    "dfcor = dfcor[:-1]\n",
    "mx = abs(dfcor['quality']).max()\n",
    "mn = abs(dfcor['quality']).min()\n",
    "\n",
    "round(mx+mn, 2)\n"
   ]
  },
  {
   "cell_type": "markdown",
   "metadata": {},
   "source": [
    "#### 주어진 데이터 셋에서 'f2' 컬럼이 1인 조건에 해당하는 데이터의 'f1'컬럼 누적합을 계산한다. 이때 발생하는 누적합 결측치는 바로 뒤의 값을 채우고, 누적합의 평균값을 출력한다. (단, 결측치 바로 뒤의 값이 없으면 다음에 나오는 값을 채워넣는다)\n",
    "- 데이터셋 : basic1.csv"
   ]
  },
  {
   "cell_type": "code",
   "execution_count": 4,
   "metadata": {},
   "outputs": [
    {
     "name": "stdout",
     "output_type": "stream",
     "text": [
      "980.3783783783783\n"
     ]
    }
   ],
   "source": [
    "import os \n",
    "from os.path import join\n",
    "\n",
    "import pandas as pd\n",
    "import numpy as np\n",
    "file_Nm = join('data', 'basic1.csv')\n",
    "df = pd.read_csv(file_Nm)\n",
    "df = df[df['f2'] == 1]\n",
    "cum_df = df['f1'].cumsum()\n",
    "print(cum_df.fillna(method = 'bfill').mean())"
   ]
  },
  {
   "cell_type": "markdown",
   "metadata": {},
   "source": [
    "#### f1의 결측치를 채운 후 age 컬럼의 중복 제거 전과 후의 'f1' 중앙값 차이를 구하시오\n",
    "- 결측치는 f1의 데이터 중 내림차순 정렬 후 10번째 값으로 채움\n",
    "- 중복 데이터 발생시 뒤에 나오는 데이터를 삭제함\n",
    "- 최종 결과값은 절대값으로 출력\n",
    "\n",
    "데이터셋 : basic1.csv"
   ]
  },
  {
   "cell_type": "code",
   "execution_count": 5,
   "metadata": {},
   "outputs": [
    {
     "data": {
      "text/plain": [
       "0.5"
      ]
     },
     "execution_count": 5,
     "metadata": {},
     "output_type": "execute_result"
    }
   ],
   "source": [
    "import os\n",
    "from os.path import join\n",
    "\n",
    "import pandas as pd\n",
    "\n",
    "file_NM = join('data', 'basic1.csv')\n",
    "df = pd.read_csv(file_NM)\n",
    "df_a = df.sort_values('f1', ascending = False)\n",
    "fill = df_a['f1'].iloc[9,]\n",
    "df['f1'] = df['f1'].fillna(fill)\n",
    "before_mid = df['f1'].median()\n",
    "before_mid\n",
    "\n",
    "df = df.drop_duplicates(subset=['age'])\n",
    "after_mid = df['f1'].median()\n",
    "abs(before_mid - after_mid)"
   ]
  },
  {
   "cell_type": "markdown",
   "metadata": {},
   "source": [
    "#### 문제1\n",
    "- 데이터셋(basic1.csv)의 'f5' 컬럼을 기준으로 상위 10개의 데이터를 구하고,\n",
    "- 'f5'컬럼 10개 중 최소값으로 데이터를 대체한 후,\n",
    "- 'age'컬럼에서 80 이상인 데이터의'f5 컬럼 평균값 구하기"
   ]
  },
  {
   "cell_type": "code",
   "execution_count": 6,
   "metadata": {},
   "outputs": [
    {
     "name": "stderr",
     "output_type": "stream",
     "text": [
      "C:\\Users\\kki96\\AppData\\Local\\Temp/ipykernel_14144/393851467.py:10: SettingWithCopyWarning: \n",
      "A value is trying to be set on a copy of a slice from a DataFrame\n",
      "\n",
      "See the caveats in the documentation: https://pandas.pydata.org/pandas-docs/stable/user_guide/indexing.html#returning-a-view-versus-a-copy\n",
      "  df1['f5'][:10] = df1['f5'].iloc[:10].min()\n",
      "C:\\Users\\kki96\\AppData\\Local\\Temp/ipykernel_14144/393851467.py:11: UserWarning: Boolean Series key will be reindexed to match DataFrame index.\n",
      "  df1[df['age'] >= 80]['f5'].mean()\n"
     ]
    },
    {
     "data": {
      "text/plain": [
       "62.497747125217394"
      ]
     },
     "execution_count": 6,
     "metadata": {},
     "output_type": "execute_result"
    }
   ],
   "source": [
    "import os\n",
    "from os.path import join\n",
    "\n",
    "import pandas as pd\n",
    "\n",
    "file_NM = join('data', 'basic1.csv')\n",
    "df = pd.read_csv(file_NM)\n",
    "\n",
    "df1 = df.sort_values('f5', ascending = False)\n",
    "df1['f5'][:10] = df1['f5'].iloc[:10].min()\n",
    "df1[df['age'] >= 80]['f5'].mean()"
   ]
  },
  {
   "cell_type": "markdown",
   "metadata": {},
   "source": [
    "#### 문제2\n",
    "- 데이터셋(basic1.csv)의 앞에서 순서대로 70% 데이터만 활용해서,\n",
    "- 'f1'컬럼 결측치를 중앙값으로 채우기 전후의 표준편차를 구하고\n",
    "- 두 표준편차 차이 계산하기"
   ]
  },
  {
   "cell_type": "code",
   "execution_count": 7,
   "metadata": {},
   "outputs": [
    {
     "name": "stdout",
     "output_type": "stream",
     "text": [
      "3.269039416603963\n"
     ]
    }
   ],
   "source": [
    "import os\n",
    "from os.path import join\n",
    "\n",
    "import pandas as pd\n",
    "\n",
    "file_NM = join('data', 'basic1.csv')\n",
    "df = pd.read_csv(file_NM)\n",
    "df[:int(len(df)*.7)] # 앞의 순서대로70%만 활용\n",
    "before_std = df['f1'].std()\n",
    "df['f1'] = df['f1'].fillna(df['f1'].median())\n",
    "after_std = df['f1'].std()\n",
    "\n",
    "print(before_std - after_std)"
   ]
  },
  {
   "cell_type": "markdown",
   "metadata": {},
   "source": [
    "#### 문제3\n",
    "- 데이터셋(basic1.csv)의 'age'컬럼의 이상치를 더하시오!\n",
    "- 단, 평균으로부터 '표준편차*1.5'를 벗어나는 영역을 이상치라고 판단함"
   ]
  },
  {
   "cell_type": "code",
   "execution_count": 8,
   "metadata": {},
   "outputs": [
    {
     "data": {
      "text/plain": [
       "473.5"
      ]
     },
     "execution_count": 8,
     "metadata": {},
     "output_type": "execute_result"
    }
   ],
   "source": [
    "import os\n",
    "from os.path import join\n",
    "\n",
    "import pandas as pd\n",
    "\n",
    "file_NM = join('data', 'basic1.csv')\n",
    "df = pd.read_csv(file_NM)\n",
    "\n",
    "mx = df['age'].mean() + (1.5*df['age'].std())\n",
    "mn = df['age'].mean() - (1.5*df['age'].std())\n",
    "df[(df['age'] > mx) | (df['age'] < mn)]['age'].sum()"
   ]
  },
  {
   "cell_type": "markdown",
   "metadata": {},
   "source": [
    "#### 작업형1 예시문제\n",
    "자동차 데이터 셋에서 qsec 컬럼을 Min-Max Scale로 변환 후 0.5보다 큰 값을 가지는 레코드(row) 수를 묻는 문제입니다.\n",
    "\n",
    "- data 출처: https://www.kaggle.com/ruiromanini/mtcars\n",
    "- data 추가방법 : 우측 메뉴 -> +Add data -> mtcar(ruiromanini) ADD"
   ]
  },
  {
   "cell_type": "code",
   "execution_count": 9,
   "metadata": {},
   "outputs": [
    {
     "name": "stdout",
     "output_type": "stream",
     "text": [
      "9\n"
     ]
    }
   ],
   "source": [
    "import os\n",
    "from os.path import join\n",
    "\n",
    "import pandas as pd\n",
    "\n",
    "file_NM = join('data', 'mtcars.csv')\n",
    "df = pd.read_csv(file_NM)\n",
    "df.head(5)\n",
    "\n",
    "from sklearn.preprocessing import MinMaxScaler\n",
    "MMS = MinMaxScaler()\n",
    "df['qsec'] = MMS.fit_transform(df[['qsec']])\n",
    "print(len(df[df['qsec'] > 0.5]))\n",
    "\n",
    "# ## 이렇게 하거나\n",
    "# from sklearn.preprocessing import minmax_scale\n",
    "# df['qsec'] = minmax_scale(df['qsec'])\n",
    "# len(df[df['qsec'] > 0.5])"
   ]
  },
  {
   "cell_type": "markdown",
   "metadata": {},
   "source": [
    "#### 결측치 제거 및 그룹 합계에서 조건에 맞는 값 찾아 출력\n",
    "주어진 데이터 중 basic1.csv에서 'f1'컬럼 결측 데이터를 제거하고, 'city'와 'f2'을 기준으로 묶어 합계를 구하고, 'city가 경기이면서 f2가 0'인 조건에 만족하는 f1 값을 구하시오\n",
    "- 데이터셋 : basic1.csv"
   ]
  },
  {
   "cell_type": "code",
   "execution_count": 10,
   "metadata": {},
   "outputs": [
    {
     "name": "stdout",
     "output_type": "stream",
     "text": [
      "833.0\n"
     ]
    }
   ],
   "source": [
    "import os \n",
    "from os.path import join\n",
    "\n",
    "import pandas as pd\n",
    "import numpy as np\n",
    "\n",
    "file_Nm = join('data', 'basic1.csv')\n",
    "df = pd.read_csv(file_Nm)\n",
    "df = df.dropna(subset = ['f1'])\n",
    "grb = df.groupby(['city', 'f2']).sum()\n",
    "# grb = grb.reset_index()\n",
    "# print(grb[(grb['city'] == '경기') & (grb['f2'] == 0)]['f1'])\n",
    "print(grb.iloc[0]['f1'])\n",
    "\n"
   ]
  },
  {
   "cell_type": "markdown",
   "metadata": {},
   "source": [
    "#### min-max스케일링 기준 상하위 5% 구하기\n",
    "주어진 데이터에서 'f5'컬럼을 min-max 스케일 변환한 후, 상위 5%와 하위 5% 값의 합을 구하시오\n",
    "\n",
    "- 데이터셋 : basic1.csv"
   ]
  },
  {
   "cell_type": "code",
   "execution_count": 11,
   "metadata": {},
   "outputs": [
    {
     "name": "stdout",
     "output_type": "stream",
     "text": [
      "1.0248740983597389\n"
     ]
    }
   ],
   "source": [
    "import os \n",
    "from os.path import join\n",
    "\n",
    "import pandas as pd\n",
    "import numpy as np\n",
    "\n",
    "file_Nm = join('data', 'basic1.csv')\n",
    "df = pd.read_csv(file_Nm)\n",
    "from sklearn.preprocessing import minmax_scale\n",
    "\n",
    "df['f5'] = minmax_scale(df['f5'])\n",
    "print(df['f5'].quantile(0.05) + df['f5'].quantile(0.95))"
   ]
  },
  {
   "cell_type": "markdown",
   "metadata": {},
   "source": [
    "#### 결측치 처리\n",
    "주어진 데이터에서 결측치가 80%이상 되는 컬럼은(변수는) 삭제하고, 80% 미만인 결측치가 있는 컬럼은 'city'별 중앙값으로 값을 대체하고 'f1'컬럼의 평균값을 출력하세요!\n",
    "- 데이터셋 : basic1.csv"
   ]
  },
  {
   "cell_type": "code",
   "execution_count": 12,
   "metadata": {},
   "outputs": [
    {
     "data": {
      "text/plain": [
       "65.52"
      ]
     },
     "execution_count": 12,
     "metadata": {},
     "output_type": "execute_result"
    }
   ],
   "source": [
    "import os \n",
    "from os.path import join\n",
    "\n",
    "import pandas as pd\n",
    "import numpy as np\n",
    "\n",
    "file_Nm = join('data', 'basic1.csv')\n",
    "df = pd.read_csv(file_Nm)\n",
    "\n",
    "(df.isnull().sum()/len(df))\n",
    "df = df.drop(columns='f3')\n",
    "\n",
    "k, d, b, s = df.groupby('city')['f1'].median()\n",
    "df.groupby('city')['f1'].median()\n",
    "df['f1'] = df['f1'].fillna(df['city'].map({'경기': k, '대구': d, '부산': b, '서울': s}))\n",
    "\n",
    "df['f1'].mean()"
   ]
  },
  {
   "cell_type": "markdown",
   "metadata": {},
   "source": [
    "#### city와 f4를 기준으로 f5의 평균값을 구한 다음, f5를 기준으로 상위 7개 값을 모두 더해 출력하시오 (소수점 둘째자리까지 출력)\n",
    " - 데이터셋 : basic1.csv "
   ]
  },
  {
   "cell_type": "code",
   "execution_count": 13,
   "metadata": {},
   "outputs": [
    {
     "data": {
      "text/plain": [
       "643.68"
      ]
     },
     "execution_count": 13,
     "metadata": {},
     "output_type": "execute_result"
    }
   ],
   "source": [
    "import os \n",
    "from os.path import join\n",
    "\n",
    "import pandas as pd\n",
    "import numpy as np\n",
    "\n",
    "file_Nm = join('data', 'basic1.csv')\n",
    "df = pd.read_csv(file_Nm)\n",
    "\n",
    "round(df.groupby(['city', 'f4']).mean().sort_values('f5', ascending = False)[:7]['f5'].sum(), 2)"
   ]
  },
  {
   "cell_type": "markdown",
   "metadata": {},
   "source": [
    "#### 이상치를 찾아라(소수점 나이)\n",
    "주어진 데이터에서 이상치(소수점 나이)를 찾고 올림, 내림, 버림(절사)했을때 3가지 모두 이상치 'age' 평균을 구한 다음 모두 더하여 출력하시오\n",
    "- 데이터셋 : basic1.csv"
   ]
  },
  {
   "cell_type": "code",
   "execution_count": 21,
   "metadata": {},
   "outputs": [
    {
     "name": "stdout",
     "output_type": "stream",
     "text": [
      "69.5\n"
     ]
    }
   ],
   "source": [
    "import os \n",
    "from os.path import join\n",
    "\n",
    "import pandas as pd\n",
    "import numpy as np\n",
    "\n",
    "file_Nm = join('data', 'basic1.csv')\n",
    "df = pd.read_csv(file_Nm)\n",
    "\n",
    "# 찾고\n",
    "out_df = df[df['age'] - round(df['age'], 0) != 0]\n",
    "\n",
    "# 올림\n",
    "ceil_age = np.ceil(out_df['age']).mean()\n",
    "\n",
    "# 내림\n",
    "floor_age = np.floor(out_df['age']).mean()\n",
    "\n",
    "# 절사\n",
    "trunc_age = np.trunc(out_df['age']).mean() \n",
    "\n",
    "print(ceil_age + floor_age + trunc_age)"
   ]
  },
  {
   "cell_type": "markdown",
   "metadata": {},
   "source": [
    "#### 이상치를 찾아라\n",
    "데이터에서 IQR을 활용해 Fare컬럼의 이상치를 찾고, 이상치 데이터의 여성 수를 구하시오\n",
    "- 데이터셋 : titanic"
   ]
  },
  {
   "cell_type": "code",
   "execution_count": 35,
   "metadata": {},
   "outputs": [
    {
     "name": "stdout",
     "output_type": "stream",
     "text": [
      "70\n",
      "70\n"
     ]
    }
   ],
   "source": [
    "import os\n",
    "from os.path import join\n",
    "\n",
    "import pandas as pd\n",
    "\n",
    "file_NM = join('data', 'titanic.csv')\n",
    "df = pd.read_csv(file_NM)\n",
    "df.head()\n",
    "\n",
    "quan3 = df['Fare'].quantile(0.75)\n",
    "quan1 = df['Fare'].quantile(0.25)\n",
    "IQR = quan3 - quan1\n",
    "\n",
    "mx = quan3 + (1.5*IQR)\n",
    "mn = quan1 - (1.5*IQR)\n",
    "\n",
    "outlier = df[(df['Fare'] > mx) | (df['Fare'] < mn)]\n",
    "\n",
    "print(len(outlier[outlier['Sex'] == 'female']))\n",
    "print((outlier[outlier['Sex'] == 'female']).shape[0])"
   ]
  },
  {
   "cell_type": "markdown",
   "metadata": {},
   "source": [
    "#### 'f4'컬럼의 값이 'ESFJ'인 데이터를 'ISFJ'로 대체하고, 'city'가 '경기'이면서 'f4'가 'ISFJ'인 데이터 중 'age'컬럼의 최대값을 출력하시오!\n",
    "- 데이터셋 : basic1.csv"
   ]
  },
  {
   "cell_type": "code",
   "execution_count": 40,
   "metadata": {},
   "outputs": [
    {
     "data": {
      "text/plain": [
       "90.0"
      ]
     },
     "execution_count": 40,
     "metadata": {},
     "output_type": "execute_result"
    }
   ],
   "source": [
    "import os \n",
    "from os.path import join\n",
    "\n",
    "import pandas as pd\n",
    "import numpy as np\n",
    "\n",
    "file_Nm = join('data', 'basic1.csv')\n",
    "df = pd.read_csv(file_Nm)\n",
    "\n",
    "df['f4'] = df['f4'].replace('ESFJ', 'ISFJ')\n",
    "df[(df['city'] == '경기') & (df['f4'] == 'ISFJ')]['age'].max()"
   ]
  },
  {
   "cell_type": "markdown",
   "metadata": {},
   "source": [
    "#### 왜도와 첨도 구하기\n",
    "주어진 데이터 중 train.csv에서 'SalePrice'컬럼의 왜도와 첨도를 구한 값과, 'SalePrice'컬럼을 스케일링(log1p)로 변환한 이후 왜도와 첨도를 구해 모두 더한 다음 소수점 2째자리까지 출력하시오\n",
    "- 데이터셋 : House Prices - Advanced Regression Technique (https://www.kaggle.com/c/house-prices-advanced-regression-techniques)"
   ]
  },
  {
   "cell_type": "code",
   "execution_count": 44,
   "metadata": {},
   "outputs": [
    {
     "name": "stdout",
     "output_type": "stream",
     "text": [
      "9.35\n"
     ]
    }
   ],
   "source": [
    "import os \n",
    "from os.path import join\n",
    "\n",
    "import pandas as pd\n",
    "import numpy as np\n",
    "\n",
    "file_Nm = join('data', 'House_Prices.csv')\n",
    "df = pd.read_csv(file_Nm)\n",
    "df.head()\n",
    "\n",
    "before_skew = df['SalePrice'].skew()\n",
    "before_kurt = df['SalePrice'].kurt()\n",
    "\n",
    "df['SalePrice'] = np.log1p(df['SalePrice'])\n",
    "\n",
    "after_skew = df['SalePrice'].skew()\n",
    "after_kurt = df['SalePrice'].kurt()\n",
    "\n",
    "print(round(before_kurt + before_skew + after_kurt + after_skew, 2))"
   ]
  },
  {
   "cell_type": "markdown",
   "metadata": {},
   "source": [
    "#### 주어진 데이터 셋에서 age컬럼 상위 20개의 데이터를 구한 다음  f1의 결측치를 중앙값으로 채운다 그리고 f4가 ISFJ와 f5가 20 이상인  f1의 평균값을 출력하시오!\n",
    "\n",
    " - 데이터셋 : basic1.csv \n",
    " - 오른쪽 상단 copy&edit 클릭 -> 예상문제 풀이 시작\n",
    " - File -> Editor Type -> Script"
   ]
  },
  {
   "cell_type": "code",
   "execution_count": 55,
   "metadata": {},
   "outputs": [
    {
     "data": {
      "text/plain": [
       "73.875"
      ]
     },
     "execution_count": 55,
     "metadata": {},
     "output_type": "execute_result"
    }
   ],
   "source": [
    "import os\n",
    "from os.path import join\n",
    "\n",
    "import pandas as pd\n",
    "\n",
    "file_Nm = join('data', 'basic1.csv')\n",
    "df = pd.read_csv(file_Nm)\n",
    "df20 = df.sort_values('age', ascending = False).iloc[:20]\n",
    "df20['f1'] = df20['f1'].fillna(df20['f1'].median())\n",
    "df20[(df20['f4'] == 'ISFJ') & (df20['f5'] >= 20)]['f1'].mean()\n"
   ]
  },
  {
   "cell_type": "markdown",
   "metadata": {},
   "source": [
    "#### 조건에 맞는 데이터 표준편차 구하기\n",
    "주어진 데이터 중 basic1.csv에서 'f4'컬럼 값이 'ENFJ'와 'INFP'인 'f1'의 표준편차 차이를 절대값으로 구하시오\n",
    "- 데이터셋 : basic1.csv"
   ]
  },
  {
   "cell_type": "code",
   "execution_count": 58,
   "metadata": {},
   "outputs": [
    {
     "data": {
      "text/plain": [
       "5.859621525876811"
      ]
     },
     "execution_count": 58,
     "metadata": {},
     "output_type": "execute_result"
    }
   ],
   "source": [
    "import os\n",
    "from os.path import join\n",
    "\n",
    "import pandas as pd\n",
    "\n",
    "file_Nm = join('data', 'basic1.csv')\n",
    "df = pd.read_csv(file_Nm)\n",
    "\n",
    "cond1 = df[(df['f4'] == 'ENFJ')]['f1'].std()\n",
    "cond2 = df[(df['f4'] == 'INFP')]['f1'].std()\n",
    "\n",
    "abs(cond1 - cond2)"
   ]
  },
  {
   "cell_type": "markdown",
   "metadata": {},
   "source": [
    "#### 수치형 변수 변환하기\n",
    "주어진 데이터에서 'f5'컬럼을 표준화(Standardization (Z-score Normalization))하고 그 중앙값을 구하시오\n",
    "- 데이터셋 : basic1.csv"
   ]
  },
  {
   "cell_type": "code",
   "execution_count": 63,
   "metadata": {},
   "outputs": [
    {
     "data": {
      "text/plain": [
       "0.260619629559015"
      ]
     },
     "execution_count": 63,
     "metadata": {},
     "output_type": "execute_result"
    }
   ],
   "source": [
    "import os\n",
    "from os.path import join\n",
    "\n",
    "import pandas as pd\n",
    "\n",
    "file_Nm = join('data', 'basic1.csv')\n",
    "df = pd.read_csv(file_Nm)\n",
    "\n",
    "from sklearn.preprocessing import StandardScaler\n",
    "\n",
    "Sc = StandardScaler()\n",
    "df['f5'] = Sc.fit_transform(df[['f5']])\n",
    "df['f5'].median()"
   ]
  },
  {
   "cell_type": "markdown",
   "metadata": {},
   "source": [
    "#### 2022년 5월 sales의 중앙값을 구하시오\n",
    "- 데이터셋 : basic2.csv"
   ]
  },
  {
   "cell_type": "code",
   "execution_count": 69,
   "metadata": {},
   "outputs": [
    {
     "data": {
      "text/plain": [
       "1477685.0"
      ]
     },
     "execution_count": 69,
     "metadata": {},
     "output_type": "execute_result"
    }
   ],
   "source": [
    "import os\n",
    "from os.path import join\n",
    "\n",
    "import pandas as pd\n",
    "\n",
    "file_Nm = join('data', 'basic2.csv')\n",
    "df = pd.read_csv(file_Nm)\n",
    "\n",
    "df['Date'] = pd.to_datetime(df['Date'])\n",
    "df['Year'] = df['Date'].dt.year\n",
    "df['Month'] = df['Date'].dt.month\n",
    "df['Day'] = df['Date'].dt.day\n",
    "df[(df['Year'] == 2022) & (df['Month'] == 5)]['Sales'].median()"
   ]
  },
  {
   "cell_type": "markdown",
   "metadata": {},
   "source": [
    "#### 주어진 데이터에서 2022년 5월 주말과 평일의 sales컬럼 평균값 차이를 구하시오 (소수점 둘째자리까지 출력, 반올림)\n",
    "데이터셋 : basic2.csv"
   ]
  },
  {
   "cell_type": "code",
   "execution_count": 85,
   "metadata": {},
   "outputs": [
    {
     "data": {
      "text/plain": [
       "3010339.1"
      ]
     },
     "execution_count": 85,
     "metadata": {},
     "output_type": "execute_result"
    }
   ],
   "source": [
    "import os\n",
    "from os.path import join\n",
    "\n",
    "import pandas as pd\n",
    "\n",
    "file_Nm = join('data', 'basic2.csv')\n",
    "df = pd.read_csv(file_Nm)\n",
    "\n",
    "df['Date'] = pd.to_datetime(df['Date'])\n",
    "# 연, 월, 일, 요일 만들기\n",
    "df['Year'] = df['Date'].dt.year\n",
    "df['Month'] = df['Date'].dt.month\n",
    "df['Day'] = df['Date'].dt.day\n",
    "df['Dayofweek'] = df['Date'].dt.dayofweek\n",
    "\n",
    "df = df[(df['Year'] == 2022) & (df['Month'] == 5)]\n",
    "day1 = df[(df['Dayofweek'] >= 5)]['Sales'].mean()\n",
    "day2 = df[(df['Dayofweek'] <= 4)]['Sales'].mean()\n",
    "\n",
    "round(day1 - day2, 2)"
   ]
  },
  {
   "cell_type": "markdown",
   "metadata": {},
   "source": [
    "#### 주어진 데이터에서 2022년 월별 Sales 합계 중 가장 큰 금액과 2023년 월별 Sales 합계 중 가장 큰 금액의 차이를 절대값으로 구하시오.단 Events컬럼이 '1'인경우 80%의 Salse값만 반영함\n",
    "(최종값은 소수점 반올림 후 정수 출력)\n",
    "\n",
    "- 데이터셋 : basic2.csv"
   ]
  },
  {
   "cell_type": "code",
   "execution_count": 99,
   "metadata": {},
   "outputs": [
    {
     "data": {
      "text/plain": [
       "42473435.80000001"
      ]
     },
     "execution_count": 99,
     "metadata": {},
     "output_type": "execute_result"
    }
   ],
   "source": [
    "import os\n",
    "from os.path import join\n",
    "\n",
    "import pandas as pd\n",
    "\n",
    "file_Nm = join('data', 'basic2.csv')\n",
    "df = pd.read_csv(file_Nm)\n",
    "\n",
    "df['Date'] = pd.to_datetime(df['Date'])\n",
    "df['year'] = df['Date'].dt.year\n",
    "df['month'] = df['Date'].dt.month  \n",
    "df['day'] = df['Date'].dt.day\n",
    "\n",
    "def sales(x):\n",
    "    if x['Events'] == 1:\n",
    "        x['Sales'] = x['Sales']*0.8\n",
    "    else:\n",
    "        x['Sales'] = x['Sales']\n",
    "    return x\n",
    "\n",
    "df = df.apply(lambda x: sales(x), axis = 1)\n",
    "\n",
    "    \n",
    "df2022 = df[df['year'] == 2022]\n",
    "df2023 = df[df['year'] == 2023]\n",
    "\n",
    "mx22 = df2022.groupby('month')['Sales'].sum().max()\n",
    "mx23 = df2023.groupby('month')['Sales'].sum().max()\n",
    "abs(mx22 - mx23)"
   ]
  },
  {
   "cell_type": "markdown",
   "metadata": {},
   "source": [
    "#### 주어진 데이터(basic2.csv)에서 주 단위 Sales의 합계를 구하고, 가장 큰 값을 가진 주와 작은 값을 가진 주의 차이를 구하시오(절대값)\n",
    "데이터셋 : basic2.csv"
   ]
  },
  {
   "cell_type": "code",
   "execution_count": 105,
   "metadata": {},
   "outputs": [
    {
     "data": {
      "text/plain": [
       "91639050"
      ]
     },
     "execution_count": 105,
     "metadata": {},
     "output_type": "execute_result"
    }
   ],
   "source": [
    "import os\n",
    "from os.path import join\n",
    "\n",
    "import pandas as pd\n",
    "\n",
    "file_Nm = join('data', 'basic2.csv')\n",
    "df = pd.read_csv(file_Nm)\n",
    "df['Date'] = pd.to_datetime(df['Date'])\n",
    "df = df.set_index(['Date'])\n",
    "df_w = df.resample('W').sum()\n",
    "df_w['Sales'].max() - df_w['Sales'].min()"
   ]
  },
  {
   "cell_type": "markdown",
   "metadata": {},
   "source": [
    "#### 주어진 데이터(basic2.csv)에서 새로운 컬럼(1일 이전 시차 컬럼)을 만들고, Events가 1이면서 Sales가 1000000이하인 조건에 맞는 새로운 컬럼 합을 구하시오\n",
    "데이터셋 : basic2.csv"
   ]
  },
  {
   "cell_type": "code",
   "execution_count": 116,
   "metadata": {},
   "outputs": [
    {
     "name": "stderr",
     "output_type": "stream",
     "text": [
      "C:\\Users\\kki96\\AppData\\Local\\Temp/ipykernel_14144/234794774.py:9: SettingWithCopyWarning: \n",
      "A value is trying to be set on a copy of a slice from a DataFrame\n",
      "\n",
      "See the caveats in the documentation: https://pandas.pydata.org/pandas-docs/stable/user_guide/indexing.html#returning-a-view-versus-a-copy\n",
      "  df['under_pv'][0] = df['PV'][0]\n"
     ]
    },
    {
     "data": {
      "text/plain": [
       "1894876.0"
      ]
     },
     "execution_count": 116,
     "metadata": {},
     "output_type": "execute_result"
    }
   ],
   "source": [
    "import os\n",
    "from os.path import join\n",
    "\n",
    "import pandas as pd\n",
    "\n",
    "file_Nm = join('data', 'basic2.csv')\n",
    "df = pd.read_csv(file_Nm)\n",
    "df['under_pv'] = df['PV'].shift(1)\n",
    "df['under_pv'][0] = df['PV'][0]\n",
    "\n",
    "df[(df['Events'] == 1) & (df['Sales'] <= 1000000)]['under_pv'].sum()"
   ]
  },
  {
   "cell_type": "markdown",
   "metadata": {},
   "source": [
    "#### 주어진 데이터에서 상위 10개 국가의 접종률 평균과 하위 10개 국가의 접종률 평균을 구하고, 그 차이를 구해보세요 \n",
    "(단, 100%가 넘는 접종률 제거, 소수 첫째자리까지 출력)\n",
    "\n",
    "- 데이터셋 :covid_vaccination_vs_death_ratio\n"
   ]
  },
  {
   "cell_type": "code",
   "execution_count": 145,
   "metadata": {},
   "outputs": [
    {
     "data": {
      "text/plain": [
       "84.2"
      ]
     },
     "execution_count": 145,
     "metadata": {},
     "output_type": "execute_result"
    }
   ],
   "source": [
    "import os \n",
    "from os.path import join\n",
    "\n",
    "import pandas as pd\n",
    "import numpy as np\n",
    "\n",
    "file_Nm = join('data', 'covid_vaccination_vs_death_ratio.csv')\n",
    "df = pd.read_csv(file_Nm)\n",
    "df2 = df.groupby('country')['ratio'].max()\n",
    "df2 = df2.sort_values(ascending = False)[1:]\n",
    "top = df2.head(10)\n",
    "bottom = df2.tail(10)\n",
    "round(top.mean() - bottom.mean(), 1)"
   ]
  },
  {
   "cell_type": "markdown",
   "metadata": {},
   "source": [
    "#### 주어진 데이터 셋에서 f2가 0값인 데이터를 age를 기준으로 오름차순 정렬하고 앞에서 부터 20개의 데이터를 추출한 후 f1 결측치(최소값)를 채우기 전과 후의 분산 차이를 계산하시오 (소수점 둘째 자리까지)\n",
    "\n",
    "- 데이터셋 : basic1.csv "
   ]
  },
  {
   "cell_type": "code",
   "execution_count": 150,
   "metadata": {},
   "outputs": [
    {
     "data": {
      "text/plain": [
       "38.44"
      ]
     },
     "execution_count": 150,
     "metadata": {},
     "output_type": "execute_result"
    }
   ],
   "source": [
    "import os\n",
    "from os.path import join\n",
    "\n",
    "import pandas as pd\n",
    "\n",
    "file_Nm = join('data', 'basic1.csv')\n",
    "df = pd.read_csv(file_Nm)\n",
    "\n",
    "df = df[df['f2'] == 0]\n",
    "df = df.sort_values('age')\n",
    "df = df.iloc[:20]\n",
    "before = df['f1'].var()\n",
    "df['f1'] = df['f1'].fillna(df['f1'].min())\n",
    "after = df['f1'].var()\n",
    "round(before - after, 2)\n"
   ]
  },
  {
   "cell_type": "markdown",
   "metadata": {},
   "source": [
    "#### 수치형 변수 변환하기\n",
    "주어진 데이터에서 20세 이상인 데이터를 추출하고 'f1'컬럼을 결측치를 최빈값으로 채운 후, f1 컬럼의 여-존슨과 박스콕스 변환 값을 구하고, 두 값의 차이를 절대값으로 구한다음 모두 더해 소수점 둘째 자리까지 출력(반올림)하시오\n",
    "- 데이터셋 : basic1.csv"
   ]
  },
  {
   "cell_type": "code",
   "execution_count": 163,
   "metadata": {},
   "outputs": [
    {
     "data": {
      "text/plain": [
       "0.05"
      ]
     },
     "execution_count": 163,
     "metadata": {},
     "output_type": "execute_result"
    }
   ],
   "source": [
    "import os\n",
    "from os.path import join\n",
    "\n",
    "import pandas as pd\n",
    "\n",
    "file_Nm = join('data', 'basic1.csv')\n",
    "df = pd.read_csv(file_Nm)\n",
    "\n",
    "df = df[df['age'] >= 20]\n",
    "many = df['f1'].mode()[0]\n",
    "df['f1'] = df['f1'].fillna(many)\n",
    "\n",
    "from sklearn.preprocessing import power_transform\n",
    "\n",
    "df['ej'] = power_transform(df[['f1']])\n",
    "df['bc'] = power_transform(df[['f1']], method = 'box-cox')\n",
    "\n",
    "round(abs(df['ej'] - df['bc']).sum(), 2)"
   ]
  },
  {
   "cell_type": "code",
   "execution_count": null,
   "metadata": {},
   "outputs": [],
   "source": []
  }
 ],
 "metadata": {
  "kernelspec": {
   "display_name": "Python 3.8.12 ('base')",
   "language": "python",
   "name": "python3"
  },
  "language_info": {
   "codemirror_mode": {
    "name": "ipython",
    "version": 3
   },
   "file_extension": ".py",
   "mimetype": "text/x-python",
   "name": "python",
   "nbconvert_exporter": "python",
   "pygments_lexer": "ipython3",
   "version": "3.8.12"
  },
  "orig_nbformat": 4,
  "vscode": {
   "interpreter": {
    "hash": "dc9e9ccc36c3c53c869f9efb4dbe658a531f8632eda95f2a2a2973ff10f33bd1"
   }
  }
 },
 "nbformat": 4,
 "nbformat_minor": 2
}
