{
 "cells": [
  {
   "cell_type": "code",
   "execution_count": 40,
   "metadata": {},
   "outputs": [
    {
     "name": "stdout",
     "output_type": "stream",
     "text": [
      "1 1\n",
      "100\n"
     ]
    }
   ],
   "source": [
    "n = int(input('색종이의수 :')) #색종이의 수\n",
    "paper = [[0] * 100 for _ in range(100)] # 도화지\n",
    "\n",
    "for _ in range(n):\n",
    "    a = int(input()) # 색종이를 붙일 위치(첫번째 자연수) \n",
    "    b = int(input()) # 색종이를 붙일 위치(두번째 자연수) \n",
    "    print(a, b)\n",
    "    \n",
    "    for i in range(a, a + 10): # 색종이의 왼쪽 변과 도화지의 왼쪽 변 사이의 거리\n",
    "        # print(i)\n",
    "        for j in range(b, b + 10): # 색종이의 아래쪽 변과 도화지의 아래쪽 변 사이의 거리\n",
    "            # print(j)\n",
    "            paper[i][j] = 1      # 전부 1로 변환\n",
    "            # print(paper[i][j])            \n",
    "result = 0\n",
    "for i in paper:\n",
    "    result += sum(i)\n",
    "print(result)"
   ]
  },
  {
   "cell_type": "code",
   "execution_count": 41,
   "metadata": {},
   "outputs": [],
   "source": [
    "# paper"
   ]
  },
  {
   "cell_type": "code",
   "execution_count": null,
   "metadata": {},
   "outputs": [],
   "source": []
  }
 ],
 "metadata": {
  "interpreter": {
   "hash": "461201426e2c31680388cd4ed010e1a192f7b7c90935f45c876f7dbe4681fc9f"
  },
  "kernelspec": {
   "display_name": "Python 3.8.12 ('base')",
   "language": "python",
   "name": "python3"
  },
  "language_info": {
   "codemirror_mode": {
    "name": "ipython",
    "version": 3
   },
   "file_extension": ".py",
   "mimetype": "text/x-python",
   "name": "python",
   "nbconvert_exporter": "python",
   "pygments_lexer": "ipython3",
   "version": "3.8.12"
  },
  "orig_nbformat": 4
 },
 "nbformat": 4,
 "nbformat_minor": 2
}
